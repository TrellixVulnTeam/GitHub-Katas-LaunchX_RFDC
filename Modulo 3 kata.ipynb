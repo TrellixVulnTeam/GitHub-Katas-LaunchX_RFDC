{
 "cells": [
  {
   "cell_type": "markdown",
   "metadata": {},
   "source": [
    "## Ejercicio - Escribir declaraciones if, else, y elif\n",
    "Las instrucciones If te permiten ejecutar condicionalmente código Python. Se usan comúnmente en Python para \"tomar decisiones\" sobre lo que debería suceder a continuación mientras se ejecuta un programa.\n",
    "\n",
    "Para crear una instrucción if en Python, define una expresión de prueba que pueda tener un valor True o False, seguido de un bloque de código con sangría que se ejecutará si se cumple la condición.\n",
    "\n",
    "if expresion_prueba:\n",
    "    # intrucción(es) a ejecutar\n",
    "Para escribir un programa con una lógica condicional más compleja, puedes agregar instrucciones else y elif al bloque de código. También puedes anidar instrucciones condicionales.\n",
    "\n",
    "if expresion_prueba:\n",
    "\n",
    "        # intrucción(es) a ejecutar\n",
    "\n",
    "        if expresion_prueba:\n",
    "\n",
    "            # intrucción(es) a ejecutar\n",
    "\n",
    "        else: \n",
    "\n",
    "            # intrucción(es) a ejecutar\n",
    "\n",
    "elif expresion_prueba:\n",
    "\n",
    "        # intrucción(es) a ejecutar\n",
    "\n",
    "else:\n",
    "\n",
    "        # intrucción(es) a ejecutar"
   ]
  },
  {
   "cell_type": "markdown",
   "metadata": {},
   "source": [
    "Para este ejercicio, escribirás una lógica condicional que imprima una advertencia si un asteroide se acerca a la Tierra demasiado rápido. La velocidad del asteroide varía dependiendo de lo cerca que esté del sol, y cualquier velocidad superior a 25 kilómetros por segundo (km/s) merece una advertencia.\n",
    "\n",
    "Un asteroide se acerca, y viaja a una velocidad de 49 km/s.\n",
    "\n"
   ]
  },
  {
   "cell_type": "code",
   "execution_count": 2,
   "metadata": {},
   "outputs": [
    {
     "name": "stdout",
     "output_type": "stream",
     "text": [
      "Peligro un asteroide se acerca a la tierra a una velocidad de 49 km/s\n"
     ]
    }
   ],
   "source": [
    "velocidadNoPeligro = 25\n",
    "velocidadAsteroide = 49\n",
    "\n",
    "if velocidadAsteroide > velocidadNoPeligro:\n",
    "    print(\"Peligro un asteroide se acerca a la tierra a una velocidad de {} km/s\".format(velocidadAsteroide))\n",
    "else:\n",
    "    print(\"Personas de la tierra, se avisto un asteroide, pero no tengan miedo, no representa ningun peligro para la humanidad\")"
   ]
  },
  {
   "cell_type": "markdown",
   "metadata": {},
   "source": [
    "Si un asteroide entra en la atmósfera de la Tierra a una velocidad mayor o igual a 20 km/s, a veces produce un rayo de luz que se puede ver desde la Tierra. Escribe la lógica condicional que usa declaraciones if, else, y elif para alertar a las personas de todo el mundo que deben buscar un asteroide en el cielo. ¡Hay uno que se dirige a la tierra ahora a una velocidad de 19 km/s!"
   ]
  },
  {
   "cell_type": "code",
   "execution_count": 3,
   "metadata": {},
   "outputs": [
    {
     "name": "stdout",
     "output_type": "stream",
     "text": [
      "!Mira Mira¡ Mi dedo xdxdxdxdxdxd\n"
     ]
    }
   ],
   "source": [
    "velocidadPeligro = 20\n",
    "velocidadAsteroide = 19\n",
    "\n",
    "if velocidadAsteroide > velocidadPeligro:\n",
    "    print(\"Miren arriba, No es un rayo, no es un avión… es un Asteroide\")\n",
    "elif velocidadAsteroide == velocidadPeligro:\n",
    "    print(\"Miren arriba, No es un rayo, no es un avión… los alienigenas llegaron ya\")\n",
    "else:\n",
    "    print(\"!Mira Mira¡ Mi dedo xdxdxdxdxdxd\")"
   ]
  },
  {
   "cell_type": "markdown",
   "metadata": {},
   "source": [
    "Ejercicio: Uso de operadores and y or\n",
    "En el ejercicio anterior, trabajó con sentencias if, else, y elif para escribir programas con lógica condicional compleja. Para crear expresiones booleanas aún más interesantes, puede usar los operadores and y or en Python.\n",
    "\n",
    "Las expresiones and son sólo si ambas subexpresiones son verdaderas.\n",
    "\n",
    "expresión1 and expresión2\n",
    "\n",
    "Las expresiones or son True si al menos una subexpresión es verdadera.\n",
    "\n",
    "expresión1 or expresión2\n"
   ]
  },
  {
   "cell_type": "markdown",
   "metadata": {},
   "source": [
    "En este ejercicio, aprenderás información más matizada sobre cuándo los asteroides representan un peligro para la Tierra, y utilizarás esa información para mejorar nuestro sistema de advertencia. Aquí está la nueva información que necesitas saber:\n",
    "\n",
    "*Los asteroides de menos de 25 metros en su dimensión más grande probablemente se quemarán a medida que entren en la atmósfera de la Tierra.\n",
    "\n",
    "Si una pieza de un asteroide que es más grande que 25 metros pero más pequeña que 1000 metros golpeara la Tierra, causaría mucho daño.\n",
    "También discutimos en el ejercicio anterior que:\n",
    "\n",
    "La velocidad del asteroide varía en función de lo cerca que esté del sol, y cualquier velocidad superior a 25 kilómetros por segundo (km/s) merece una advertencia.\n",
    "Si un asteroide entra en la atmósfera de la Tierra a una velocidad mayor o igual a 20 km/s, a veces produce un rayo de luz que se puede ver desde la Tierra.\n",
    "\n",
    "Usando toda esta información, escribe un programa que emita la advertencia o información correcta a la gente de la Tierra, según la velocidad y el tamaño de un asteroide. Utiliza instrucciones if, else, y elif, así como los operadores and y or."
   ]
  },
  {
   "cell_type": "code",
   "execution_count": 4,
   "metadata": {},
   "outputs": [
    {
     "name": "stdout",
     "output_type": "stream",
     "text": [
      "!Peligro Alerta Un Asteroide con la capacidad de destruir el planeta tierra se acerca y no hay nada que podamos hacer¡\n"
     ]
    }
   ],
   "source": [
    "velocidadAsteroide = 30\n",
    "tamanioAsteroide = 40\n",
    "\n",
    "if velocidadAsteroide > 25 and tamanioAsteroide > 25:\n",
    "    print(\"!Peligro Alerta Un Asteroide con la capacidad de destruir el planeta tierra se acerca y no hay nada que podamos hacer¡\")\n",
    "elif velocidadAsteroide >= 20:\n",
    "    print(\"Miren arriba, No es un rayo, no es un avión… es un Asteroide\")\n",
    "elif tamanioAsteroide < 25:\n",
    "    print(\"!Mira Mira¡ Mi dedo xdxdxdxdxdxd\")\n",
    "else:\n",
    "    print(\"!Mira Mira¡ Mi dedo xdxdxdxdxdxd\")\n"
   ]
  }
 ],
 "metadata": {
  "interpreter": {
   "hash": "8af10757d2bcd5203fb5e194b066b22134c339615910c93456ca168f79d9d5ed"
  },
  "kernelspec": {
   "display_name": "Python 3.10.2 64-bit (windows store)",
   "language": "python",
   "name": "python3"
  },
  "language_info": {
   "codemirror_mode": {
    "name": "ipython",
    "version": 3
   },
   "file_extension": ".py",
   "mimetype": "text/x-python",
   "name": "python",
   "nbconvert_exporter": "python",
   "pygments_lexer": "ipython3",
   "version": "3.10.2"
  },
  "orig_nbformat": 4
 },
 "nbformat": 4,
 "nbformat_minor": 2
}
